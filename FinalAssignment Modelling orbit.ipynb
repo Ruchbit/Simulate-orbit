{
 "cells": [
  {
   "cell_type": "markdown",
   "metadata": {},
   "source": [
    "# Simulating planetary orbits\n",
    "\n",
    "## Introduction\n",
    "\n",
    "The following code will be aiming to simulate the motion due to the gravitational force between two large objects. The simulation will aim to take into consideration the starting position, velocities and mass of the objects.\n",
    "<br>Calculations will calculated using Newton's law of universal gravitation [Waugh]:\n",
    "<br>(1): $F = \\frac{Gm_1m_2}{r^2}$"
   ]
  },
  {
   "cell_type": "markdown",
   "metadata": {},
   "source": [
    "-----------------------------\n",
    "#### For the following code cell:\n",
    "Importing the necassary python modules, numpy & vpython, to allow us to create our simulation. I will be setting any creating needed global variables here too."
   ]
  },
  {
   "cell_type": "code",
   "execution_count": 1,
   "metadata": {},
   "outputs": [
    {
     "data": {
      "text/html": [
       "<div id=\"glowscript\" class=\"glowscript\"></div>"
      ],
      "text/plain": [
       "<IPython.core.display.HTML object>"
      ]
     },
     "metadata": {},
     "output_type": "display_data"
    },
    {
     "data": {
      "application/javascript": [
       "if (typeof Jupyter !== \"undefined\") { window.__context = { glowscript_container: $(\"#glowscript\").removeAttr(\"id\")};}else{ element.textContent = ' ';}"
      ],
      "text/plain": [
       "<IPython.core.display.Javascript object>"
      ]
     },
     "metadata": {},
     "output_type": "display_data"
    }
   ],
   "source": [
    "# Imported modules\n",
    "from vpython import vector, mag, sphere, rate, color, canvas\n",
    "import numpy as np\n",
    "\n",
    "# Global variables\n",
    "G = 1.      # gravitational constant [using units where gravitational constant is 1.0]"
   ]
  },
  {
   "cell_type": "markdown",
   "metadata": {},
   "source": [
    "## Part A"
   ]
  },
  {
   "cell_type": "markdown",
   "metadata": {},
   "source": [
    "### 1. Calculating the gravitational force between two objects\n",
    "\n",
    "You should complete the following function, without changing its name, arguments or docstring, to calculate the force on one object due to the gravitational field of another."
   ]
  },
  {
   "cell_type": "markdown",
   "metadata": {},
   "source": [
    "-----------------------------\n",
    "#### For the following code cell:\n",
    "I will be defining a function called 'force' that calculates the gravitational vector force exerted on object 1 due to object 2\n",
    "<br>I will be using Newton's law of gravitation for this calculation:\n",
    "<br>(1): $F = \\frac{Gm_1m_2}{r^2}$\n",
    "<br>Where:\n",
    "<br>G = the gravitional constant (previously defined global variable). \n",
    "<br>m1 & m2 = masses of object 1 and 2 respectively\n",
    "<br>r = distance between the two objects, from their centre of mass.\n",
    "<br>\n",
    "<br>(Following sourced from [Waugh])\n",
    "<br>Since function will take in the starting parameters detailing the vector position of the two objects and their massess, \n",
    "<br>the r-value will be calculated as the magnitude of the vector from object 2's position vector to object 1's position vector ( Will be seen as 'posv_mag'). \n",
    "<br>This result will be multiplied by the unit vector of 'posv' (vector from object 2's position vector to object 1's position vector) so that function returns the force value in vector form.\n",
    "<br>This gives us the following altered equation based on equation (1):\n",
    "<br>(2): $F_{m_1m_2} = \\frac{Gm_1m_2}{|r_{21}|^2} * \\widehat{r_{21}}$ \n"
   ]
  },
  {
   "cell_type": "code",
   "execution_count": 2,
   "metadata": {},
   "outputs": [],
   "source": [
    "def force(pos1, pos2, m1, m2):\n",
    "    \"\"\"\n",
    "    Returns the gravitational force exerted by object 2 on object 1.\n",
    "    Input:\n",
    "      - pos1 = position vector of first object\n",
    "      - pos2 = position vector of second object\n",
    "      - m1   = mass of first object\n",
    "      - m2   = mass of second object\n",
    "    Depends on:\n",
    "      - G    = gravitational constant (global variable)\n",
    "    \"\"\"\n",
    "    ##################\n",
    "    # YOUR CODE HERE #\n",
    "    ##################\n",
    "    # Calculating r-value (posv_mag), vector magnitude between pos1 & pos2\n",
    "    posv = pos1 - pos2\n",
    "    posv_mag = np.sqrt(posv.dot(posv))\n",
    "    \n",
    "    # Calculating posv unit vector\n",
    "    posv_hat = posv / posv_mag\n",
    "    \n",
    "    # Calculating gravitational vector force, Equ.(2)\n",
    "    force = ( -(G * m1 * m2) / (posv_mag**2) ) * posv_hat\n",
    "    return force"
   ]
  },
  {
   "cell_type": "markdown",
   "metadata": {},
   "source": [
    "#### Testing your function\n",
    "\n",
    "The following cell applies some tests to help you make sure your `force` function works correctly before you use it in the rest of the task. You do not need to understand the details of how it works, but it may help you narrow down any bugs in your code. If each line of output starts with `OK` then it is likely (but not guaranteed) that you have implemented the function correctly."
   ]
  },
  {
   "cell_type": "code",
   "execution_count": 3,
   "metadata": {},
   "outputs": [
    {
     "name": "stdout",
     "output_type": "stream",
     "text": [
      "OK: correct results for input (<0, 0, 0>, <1, 0, 0>, 1, 1)\n",
      "OK: correct results for input (<1, 0, 0>, <0, 0, 0>, 1, 1)\n",
      "OK: correct results for input (<0, 0, 0>, <2, 0, 0>, 1, 1)\n",
      "OK: correct results for input (<0, 0, 0>, <0, 1, 0>, 1, 1)\n",
      "OK: correct results for input (<10, 0, 0>, <10, 1, 0>, 1, 1)\n"
     ]
    }
   ],
   "source": [
    "################################################\n",
    "#                                              #\n",
    "# Test force is correct in a few simple cases. #\n",
    "#                                              #\n",
    "#   DO NOT CHANGE THE CODE IN THIS CELL.       #\n",
    "#                                              #\n",
    "################################################\n",
    "\n",
    "def test_force(pos1, pos2, m1, m2, expected_force):\n",
    "    epsilon = 1e-10\n",
    "    f = force(pos1, pos2, m1, m2)\n",
    "    if not isinstance(f,vector):\n",
    "        print(f\"ERROR: function should return a vector but returns {f}.\")\n",
    "        return\n",
    "    args_as_string = f\"({pos1}, {pos2}, {m1}, {m2})\"\n",
    "    error = mag(f-expected_force)\n",
    "    if error<epsilon:\n",
    "        print(f\"OK: correct results for input {args_as_string}\")\n",
    "    else:\n",
    "        print(f\"ERROR: wrong results for input {args_as_string}\")\n",
    "        print(f\"  expected: {expected_force}\")\n",
    "        print(f\"  got:      {f}\")\n",
    "\n",
    "test_force(vector(0,0,0),vector(1,0,0),1,1,vector(1,0,0))    # distance = 1 in x direction\n",
    "test_force(vector(1,0,0),vector(0,0,0),1,1,vector(-1,0,0))   # swap objects\n",
    "test_force(vector(0,0,0),vector(2,0,0),1,1,vector(0.25,0,0)) # distance = 2\n",
    "test_force(vector(0,0,0),vector(0,1,0),1,1,vector(0,1,0))    # distance = 1 in y direction\n",
    "test_force(vector(10,0,0),vector(10,1,0),1,1,vector(0,1,0))  # displaced from origin"
   ]
  },
  {
   "cell_type": "markdown",
   "metadata": {},
   "source": [
    "### 2. Calculating the motion of a planet in the gravitational field of a star\n",
    "\n",
    "You should complete the following function, without changing its name, arguments or docstring, to calculate the new position and velocity of a planet after a time step `dt`, in the gravitational field of a star of a given mass situated at the origin. This function will need to call `force` to calculate the acceleration vector of the planet."
   ]
  },
  {
   "cell_type": "markdown",
   "metadata": {},
   "source": [
    "------------------\n",
    "#### For the following code cell :\n",
    "I will be defining the function 'move_planet' that calculates the new position vector and velocity vector of a planet.\n",
    "<br>The calculated changes will be based on the effects of a star's gravitational force, after a given time period, based on the equations derived from [Waugh].\n",
    "\n",
    "<br>To simplify the calculation, we will be assuming that the star, due to it's considerably larger mass relative to the planet, will have negligable gravitational force/acceleration exerted on it.\n",
    "<br>This allows us to take the position of the star as a fixed point since it will have negligiable motion.\n",
    "<br>Adjusting Equ.(2) to account for this, we can then see $r_{21} = r_1 - r_2 $ turns into $r_{21} = r_1 - 0$ \n",
    "\n",
    "<br>This results in the following change to equation (2):\n",
    "<br> $F_{m_1m_2} = \\frac{Gm_1m_2}{|r_{1}|^2} * \\widehat{r_{1}}$ \n",
    "\n",
    "<br>Which can then further simplified, knowing that $\\widehat{r_{1}} = \\frac{r_1}{|r_1|}$, to:\n",
    "<br>$F_{m_1m_2} = \\frac{Gm_1m_2 r_1}{|r_{1}|^3}$\n",
    "<br>This means we don't need the initial vector position and vector velocity of the star to make the calculation.\n",
    "\n",
    "<br>Next we must convert the equation to give us the acceleration of the planet due to the force, using Newton's second law: $F=ma$\n",
    "<br>This results in the final equation that we will be using after dividing by $m_2$:\n",
    "<br>$(3): a = \\frac{Gm_1 r_1}{|r_{1}|^3}$\n",
    "\n",
    "<br>Finally we can calculate the change in velocity and position with Eulers method, a simple and accurate enough method for our purposes.\n",
    "<br>The velocity is calculated by adding the result of $ a * dt $ to the initial velcoity, a very small change in velocity, assuming $dt$ is also a very small time value.\n",
    "<br>The position is calculated similarly, by adding the result of $ velocity * dt $ to the initial position, a very small change in position, assuming $dt$ is also a very small time value.\n",
    "<br>(This avoids us using the differentials of acceleration, $ a = \\frac{dv}{dt} = \\frac{d^2 r}{dt}) $\n"
   ]
  },
  {
   "cell_type": "code",
   "execution_count": 4,
   "metadata": {},
   "outputs": [],
   "source": [
    "def move_planet(position, velocity, m_star, dt):\n",
    "    \"\"\"\n",
    "    Calculate motion of planet in the gravitational field of a star with given mass\n",
    "    at the origin, using Euler's method.\n",
    "    \n",
    "    Input:\n",
    "      - position: position vector of planet at start of time step\n",
    "      - velocity: velocity vector of planet at start of time step\n",
    "      - m_star:   mass of star\n",
    "      - dt:       time step\n",
    "      \n",
    "    Output: (position_new, velocity_new)\n",
    "      - position_new: position vector of planet at end of time step\n",
    "      - velocity_new: velocity vector of planet at end of time step\n",
    "      \n",
    "    Depends on:\n",
    "      - force = function to calculate the gravitational force between two objects\n",
    "    \"\"\"\n",
    "    ##################\n",
    "    # YOUR CODE HERE #\n",
    "    ##################\n",
    "    # Calculating |r| for Equ.(3)\n",
    "    position_mag = np.sqrt(position.dot(position))\n",
    "    \n",
    "    # Calculating acceleration using Equ.(3)\n",
    "    a = (-G * m_star * position) / position_mag**3 \n",
    "    \n",
    "    # Calculating small change in velocity\n",
    "    delta_v = a * dt \n",
    "    \n",
    "    # Adding small change in velocity & position to initial conditions\n",
    "    velocity_new = velocity + delta_v\n",
    "    position_new = position + (velocity * dt)\n",
    "    \n",
    "    return position_new, velocity_new"
   ]
  },
  {
   "cell_type": "markdown",
   "metadata": {},
   "source": [
    "#### Testing your function\n",
    "\n",
    "The following cell applies some tests to help you make sure your `move_planet` function works correctly before you use it in the rest of the task. You do not need to understand the details of how it works, but it may help you narrow down any bugs in your code. If each line of output starts with `OK` then it is likely (but not guaranteed) that you have implemented the function correctly."
   ]
  },
  {
   "cell_type": "code",
   "execution_count": 5,
   "metadata": {},
   "outputs": [
    {
     "name": "stdout",
     "output_type": "stream",
     "text": [
      "OK: correct results for input <1, 0, 0>, <1, 0, 0>, 1, 0\n",
      "OK: correct results for input <1, 0, 0>, <1, 0, 0>, 1, 1\n",
      "OK: correct results for input <0, 1, 0>, <0, -1, 0>, 1, 1\n",
      "OK: correct results for input <1, 0, 0>, <0, 1, 0>, 1, 1\n",
      "OK: correct results for input <1, 0, 0>, <0, 1, 0>, 1, 0.1\n",
      "OK: correct results for input <1, 0, 0>, <0, 1, 0>, 2, 0.1\n"
     ]
    }
   ],
   "source": [
    "######################################################\n",
    "#                                                    #\n",
    "# Test move_planet is correct in a few simple cases. #\n",
    "#                                                    #\n",
    "#   DO NOT CHANGE THE CODE IN THIS CELL.             #\n",
    "#                                                    #\n",
    "######################################################\n",
    "\n",
    "def test_move_planet(position, velocity, m_star, dt, expected_pos, expected_vel):\n",
    "    epsilon = 1e-10\n",
    "    results = move_planet(position, velocity, m_star, dt)\n",
    "    if not isinstance(results, tuple):\n",
    "        print(f\"ERROR: function should return two vectors but returns {results}.\")\n",
    "        return\n",
    "    if not len(results)==2:\n",
    "        print(f\"ERROR: function should return two vectors but returns {results}.\")\n",
    "        return\n",
    "    pos, vel = results\n",
    "    if not (isinstance(pos,vector) and isinstance(vel,vector)):\n",
    "        print(f\"ERROR: function should return two vectors but returns {results}.\")\n",
    "        return\n",
    "    args_as_string = f\"{position}, {velocity}, {m_star}, {dt}\"\n",
    "    err_pos, err_vel = mag(pos - expected_pos), mag(vel - expected_vel)\n",
    "    if err_pos < epsilon and err_vel < epsilon:\n",
    "        print(f\"OK: correct results for input {args_as_string}\")\n",
    "    else:\n",
    "        print(f\"ERROR: wrong results for input {args_as_string}\")\n",
    "        print(f\"  expected: {expected_pos, expected_vel}\")\n",
    "        print(f\"  got:      {results}\")\n",
    "\n",
    "\n",
    "test_move_planet(vector(1,0,0), vector(1,0,0), 1, 0, vector(1,0,0), vector(1,0,0))   # dt = 0: output = input\n",
    "test_move_planet(vector(1,0,0), vector(1,0,0), 1, 1, vector(2,0,0), vector(0,0,0))   # moving away from star\n",
    "test_move_planet(vector(0,1,0), vector(0,-1,0), 1, 1, vector(0,0,0), vector(0,-2,0)) # moving towards star\n",
    "test_move_planet(vector(1,0,0), vector(0,1,0), 1, 1, vector(1,1,0), vector(-1,1,0))  # moving past star\n",
    "test_move_planet(vector(1,0,0), vector(0,1,0), 1, 0.1, vector(1,0.1,0), vector(-0.1,1,0))  # smaller dt\n",
    "test_move_planet(vector(1,0,0), vector(0,1,0), 2, 0.1, vector(1,0.1,0), vector(-0.2,1,0))  # larger star mass"
   ]
  },
  {
   "cell_type": "markdown",
   "metadata": {},
   "source": [
    "### 3. Animating the orbit of a planet\n",
    "\n",
    "You should complete the following function, without changing its name, arguments or docstring, to display an animation of the orbit of the planet with the given intial position and velocity, and the given time step. Your planet should leave a visible trail so that we can see the shape of path."
   ]
  },
  {
   "cell_type": "markdown",
   "metadata": {},
   "source": [
    "--------------\n",
    "#### For the following code cell:\n",
    "I have defined the function 'animate_planet' which animates the motion of a planet due to the gravitational force of a star of known mass. \n",
    "<br>The function uses the previously defined 'move_planet' function to predict the orbit of the planet, using the 'position' and 'velocity' parameters to described intial conditions. It then loops at a rate based on given dt value to update and draw the new planet location, creating the animation.\n",
    "<br>(Since we used the Euler method, I adapted code from module 9 coding task that also employed the Euler method )"
   ]
  },
  {
   "cell_type": "code",
   "execution_count": 6,
   "metadata": {},
   "outputs": [],
   "source": [
    "def animate_planet(position, velocity, m_star, dt):\n",
    "    \"\"\"\n",
    "    Animate planetary orbit from given starting position, with given time step.\n",
    "    \n",
    "    Input:\n",
    "      - position: position vector of planet at start of time step\n",
    "      - velocity: velocity vector of planet at start of time step\n",
    "      - m_star:   mass of star\n",
    "      - dt:       time step\n",
    "      \n",
    "    Output: Animation of predicted orbit of planet around star\n",
    "    Depends:\n",
    "      - 'move_planet' function\n",
    "    \"\"\"\n",
    "    \n",
    "    ##################\n",
    "    # YOUR CODE HERE #\n",
    "    #################################################\n",
    "    # Adapted code from module 9 coding task\n",
    "    # Changed functions and variables to be relevant.\n",
    "    #################################################\n",
    "    \n",
    "    # Draw yellow planet at starting position, and make it leave a trail.\n",
    "    planet = sphere(pos=position,radius=0.2,make_trail=True,color=color.yellow)\n",
    "    \n",
    "    # Setting the conditions for while loop\n",
    "    time = 0.                               # initial time [s]\n",
    "    max_time = 10.                          # maximum time to run animation\n",
    "    current_velocity = velocity\n",
    "\n",
    "    # While loop that updates planet's position and velocity depending on input\n",
    "    while time < max_time:\n",
    "        rate(1/dt)\n",
    "        position, velocity = move_planet(position, current_velocity, m_star, dt)\n",
    "        planet.pos = position\n",
    "        current_velocity = velocity\n",
    "        time += dt "
   ]
  },
  {
   "cell_type": "markdown",
   "metadata": {},
   "source": [
    "#### Testing your function\n",
    "\n",
    "If you have implemented all three functions correctly, the following cell should show an almost elliptical orbit."
   ]
  },
  {
   "cell_type": "code",
   "execution_count": 7,
   "metadata": {},
   "outputs": [
    {
     "data": {
      "text/html": [
       "<div id=\"glowscript\" class=\"glowscript\"></div>"
      ],
      "text/plain": [
       "<IPython.core.display.HTML object>"
      ]
     },
     "metadata": {},
     "output_type": "display_data"
    },
    {
     "data": {
      "application/javascript": [
       "if (typeof Jupyter !== \"undefined\") { window.__context = { glowscript_container: $(\"#glowscript\").removeAttr(\"id\")};}else{ element.textContent = ' ';}"
      ],
      "text/plain": [
       "<IPython.core.display.Javascript object>"
      ]
     },
     "metadata": {},
     "output_type": "display_data"
    },
    {
     "data": {
      "application/javascript": [
       "if (typeof Jupyter !== \"undefined\") {require.undef(\"nbextensions/vpython_libraries/glow.min\");}else{element.textContent = ' ';}"
      ],
      "text/plain": [
       "<IPython.core.display.Javascript object>"
      ]
     },
     "metadata": {},
     "output_type": "display_data"
    },
    {
     "data": {
      "application/javascript": [
       "if (typeof Jupyter !== \"undefined\") {require.undef(\"nbextensions/vpython_libraries/glowcomm\");}else{element.textContent = ' ';}"
      ],
      "text/plain": [
       "<IPython.core.display.Javascript object>"
      ]
     },
     "metadata": {},
     "output_type": "display_data"
    },
    {
     "data": {
      "application/javascript": [
       "if (typeof Jupyter !== \"undefined\") {require.undef(\"nbextensions/vpython_libraries/jquery-ui.custom.min\");}else{element.textContent = ' ';}"
      ],
      "text/plain": [
       "<IPython.core.display.Javascript object>"
      ]
     },
     "metadata": {},
     "output_type": "display_data"
    },
    {
     "data": {
      "application/javascript": [
       "if (typeof Jupyter !== \"undefined\") {require([\"nbextensions/vpython_libraries/glow.min\"], function(){console.log(\"GLOW LOADED\");});}else{element.textContent = ' ';}"
      ],
      "text/plain": [
       "<IPython.core.display.Javascript object>"
      ]
     },
     "metadata": {},
     "output_type": "display_data"
    },
    {
     "data": {
      "application/javascript": [
       "if (typeof Jupyter !== \"undefined\") {require([\"nbextensions/vpython_libraries/glowcomm\"], function(){console.log(\"GLOWCOMM LOADED\");});}else{element.textContent = ' ';}"
      ],
      "text/plain": [
       "<IPython.core.display.Javascript object>"
      ]
     },
     "metadata": {},
     "output_type": "display_data"
    },
    {
     "data": {
      "application/javascript": [
       "if (typeof Jupyter !== \"undefined\") {require([\"nbextensions/vpython_libraries/jquery-ui.custom.min\"], function(){console.log(\"JQUERY LOADED\");});}else{element.textContent = ' ';}"
      ],
      "text/plain": [
       "<IPython.core.display.Javascript object>"
      ]
     },
     "metadata": {},
     "output_type": "display_data"
    }
   ],
   "source": [
    "# Initialize canvas, and set parameters of star and planet.\n",
    "canvas()\n",
    "pos_planet = vector(0,2,0)   # initial position of planet\n",
    "v_planet   = vector(-22,0,0) # initial velocity of planet\n",
    "m_star     = 1000.           # mass of star (units where G=1)\n",
    "sphere(pos=vector(0,0,0), color=color.yellow, radius=0.1) # draw star\n",
    "\n",
    "# Animate orbit of planet \n",
    "animate_planet(pos_planet, v_planet, m_star, 1e-4)"
   ]
  },
  {
   "cell_type": "markdown",
   "metadata": {},
   "source": [
    "### 4. Investigation\n",
    "\n",
    "You should insert code and text cells below as required to investigate and discuss the effect of changing the parameters of the animation: time step, mass of star, initial position and velocity of planet. "
   ]
  },
  {
   "cell_type": "markdown",
   "metadata": {},
   "source": [
    "-------------------------\n",
    "#### For the following code cell:\n",
    "I have created the 'draw_scene' function to help draw the environment of the scene.\n",
    "<br>I also have created a list of default parameters that will be used throughout the animations, allowing the changes to more visible. \n",
    "<br>The values are based on the animation test function so that I can use the animation as a point of comparison."
   ]
  },
  {
   "cell_type": "code",
   "execution_count": 8,
   "metadata": {},
   "outputs": [],
   "source": [
    "# Drawing environment for orbits\n",
    "def draw_scene():\n",
    "    canvas()\n",
    "    sphere(pos=vector(0,0,0), color=color.yellow, radius=1) # draw star\n",
    "\n",
    "# List of default parameters\n",
    "pos_planet = vector(0,2,0)   # initial position of planet\n",
    "v_planet   = vector(-22,0,0) # initial velocity of planet\n",
    "m_star     = 1000.           # mass of star (units where G=1)\n",
    "time_step  = 1e-4            # default time step, dt, value"
   ]
  },
  {
   "cell_type": "markdown",
   "metadata": {},
   "source": [
    "-----------------\n",
    "## Changing mass of star investiation (A - B)\n",
    "\n",
    "-----------------\n",
    "#### For the following code cell (A):\n",
    "I have increased the star mass used in the animation from 1000 to 2000, keeping the rest of the parameters the same as the test animation."
   ]
  },
  {
   "cell_type": "code",
   "execution_count": 9,
   "metadata": {},
   "outputs": [
    {
     "data": {
      "text/html": [
       "<div id=\"glowscript\" class=\"glowscript\"></div>"
      ],
      "text/plain": [
       "<IPython.core.display.HTML object>"
      ]
     },
     "metadata": {},
     "output_type": "display_data"
    },
    {
     "data": {
      "application/javascript": [
       "if (typeof Jupyter !== \"undefined\") { window.__context = { glowscript_container: $(\"#glowscript\").removeAttr(\"id\")};}else{ element.textContent = ' ';}"
      ],
      "text/plain": [
       "<IPython.core.display.Javascript object>"
      ]
     },
     "metadata": {},
     "output_type": "display_data"
    }
   ],
   "source": [
    "draw_scene()\n",
    "animate_planet(pos_planet, v_planet, 2000, time_step)"
   ]
  },
  {
   "cell_type": "markdown",
   "metadata": {},
   "source": [
    "-----------------\n",
    "#### For the following code cell (B):\n",
    "I have decreased the star mass used in the animation from 1000 to 500, keeping the rest of the parameters the same as the test animation."
   ]
  },
  {
   "cell_type": "code",
   "execution_count": 10,
   "metadata": {
    "scrolled": true
   },
   "outputs": [
    {
     "data": {
      "text/html": [
       "<div id=\"glowscript\" class=\"glowscript\"></div>"
      ],
      "text/plain": [
       "<IPython.core.display.HTML object>"
      ]
     },
     "metadata": {},
     "output_type": "display_data"
    },
    {
     "data": {
      "application/javascript": [
       "if (typeof Jupyter !== \"undefined\") { window.__context = { glowscript_container: $(\"#glowscript\").removeAttr(\"id\")};}else{ element.textContent = ' ';}"
      ],
      "text/plain": [
       "<IPython.core.display.Javascript object>"
      ]
     },
     "metadata": {},
     "output_type": "display_data"
    }
   ],
   "source": [
    "draw_scene()\n",
    "animate_planet(pos_planet, v_planet, 500, time_step)"
   ]
  },
  {
   "cell_type": "markdown",
   "metadata": {},
   "source": [
    "## Investigation conclusion on changing mass of star:\n",
    "We see that when the mass is increased (Code Cell A) from our test animation starting values, we see that the planet's orbit becomes more obviously elliptical in comparision to the more circular orbit of the test.\n",
    "<br>We see that when the mass is decreased (Code Cell B), the planet is lauched into an almost trajectory like path and doesn't even complete a full orbit.\n",
    "\n",
    "These orbits could be explained by how the gravitational force experienced by the planet is proportional to the mass of the star.\n",
    "<br>Smaller force means the planet gets closer to the possibility of escaping the the gravitational attraction of the star just from it's initial velocity.\n",
    "<br>Larger force means the planet experiences high levels of force when it approaches closer during it's orbit cycle. This increase in acceleration/ speed causes it to 'slingshot' back round, slowing down until it starts accelerating back again. This explains the why the orbit gets more elliptical and have a higher number of revolutions.\n"
   ]
  },
  {
   "cell_type": "markdown",
   "metadata": {},
   "source": [
    "-----------------\n",
    "## Changing initial velocity investiation (C - F)\n",
    "\n",
    "-----------------\n",
    "#### For the following code cell (C):\n",
    "I have changed the initial velocity of the planet used in the animation (-22,0,0) to (-30,0,0), keeping the rest of the parameters the same as the test animation."
   ]
  },
  {
   "cell_type": "code",
   "execution_count": 11,
   "metadata": {
    "scrolled": true
   },
   "outputs": [
    {
     "data": {
      "text/html": [
       "<div id=\"glowscript\" class=\"glowscript\"></div>"
      ],
      "text/plain": [
       "<IPython.core.display.HTML object>"
      ]
     },
     "metadata": {},
     "output_type": "display_data"
    },
    {
     "data": {
      "application/javascript": [
       "if (typeof Jupyter !== \"undefined\") { window.__context = { glowscript_container: $(\"#glowscript\").removeAttr(\"id\")};}else{ element.textContent = ' ';}"
      ],
      "text/plain": [
       "<IPython.core.display.Javascript object>"
      ]
     },
     "metadata": {},
     "output_type": "display_data"
    }
   ],
   "source": [
    "draw_scene()\n",
    "animate_planet(pos_planet,  vector(-30,0,0), m_star, time_step)"
   ]
  },
  {
   "cell_type": "markdown",
   "metadata": {},
   "source": [
    "-----------------\n",
    "#### For the following code cell (D):\n",
    "I have changed the initial velocity of the planet used in the animation from (-30,0,0) to (-50,0,0), keeping the rest of the parameters the same as the test animation."
   ]
  },
  {
   "cell_type": "code",
   "execution_count": 12,
   "metadata": {
    "scrolled": true
   },
   "outputs": [
    {
     "data": {
      "text/html": [
       "<div id=\"glowscript\" class=\"glowscript\"></div>"
      ],
      "text/plain": [
       "<IPython.core.display.HTML object>"
      ]
     },
     "metadata": {},
     "output_type": "display_data"
    },
    {
     "data": {
      "application/javascript": [
       "if (typeof Jupyter !== \"undefined\") { window.__context = { glowscript_container: $(\"#glowscript\").removeAttr(\"id\")};}else{ element.textContent = ' ';}"
      ],
      "text/plain": [
       "<IPython.core.display.Javascript object>"
      ]
     },
     "metadata": {},
     "output_type": "display_data"
    }
   ],
   "source": [
    "draw_scene()\n",
    "animate_planet(pos_planet,  vector(-50,0,0), m_star, time_step)"
   ]
  },
  {
   "cell_type": "markdown",
   "metadata": {},
   "source": [
    "-----------------\n",
    "#### For the following code cell (E):\n",
    "I have changed the initial velocity of the planet used in the animation from (-22,0,0) to (15,0,0), keeping the rest of the parameters the same as the test animation."
   ]
  },
  {
   "cell_type": "code",
   "execution_count": 13,
   "metadata": {
    "scrolled": true
   },
   "outputs": [
    {
     "data": {
      "text/html": [
       "<div id=\"glowscript\" class=\"glowscript\"></div>"
      ],
      "text/plain": [
       "<IPython.core.display.HTML object>"
      ]
     },
     "metadata": {},
     "output_type": "display_data"
    },
    {
     "data": {
      "application/javascript": [
       "if (typeof Jupyter !== \"undefined\") { window.__context = { glowscript_container: $(\"#glowscript\").removeAttr(\"id\")};}else{ element.textContent = ' ';}"
      ],
      "text/plain": [
       "<IPython.core.display.Javascript object>"
      ]
     },
     "metadata": {},
     "output_type": "display_data"
    }
   ],
   "source": [
    "draw_scene()\n",
    "animate_planet(pos_planet,  vector(15,0,0), m_star, time_step)"
   ]
  },
  {
   "cell_type": "markdown",
   "metadata": {},
   "source": [
    "-----------------\n",
    "#### For the following code cell (F):\n",
    "I have changed the initial velocity of the planet used in the animation from (-22,0,0) to (-22,0,22), keeping the rest of the parameters the same as the test animation."
   ]
  },
  {
   "cell_type": "code",
   "execution_count": 14,
   "metadata": {
    "scrolled": true
   },
   "outputs": [
    {
     "data": {
      "text/html": [
       "<div id=\"glowscript\" class=\"glowscript\"></div>"
      ],
      "text/plain": [
       "<IPython.core.display.HTML object>"
      ]
     },
     "metadata": {},
     "output_type": "display_data"
    },
    {
     "data": {
      "application/javascript": [
       "if (typeof Jupyter !== \"undefined\") { window.__context = { glowscript_container: $(\"#glowscript\").removeAttr(\"id\")};}else{ element.textContent = ' ';}"
      ],
      "text/plain": [
       "<IPython.core.display.Javascript object>"
      ]
     },
     "metadata": {},
     "output_type": "display_data"
    }
   ],
   "source": [
    "draw_scene()\n",
    "animate_planet(pos_planet, vector(-22,0,22), m_star, time_step)"
   ]
  },
  {
   "cell_type": "markdown",
   "metadata": {},
   "source": [
    "-----------------\n",
    "#### For the following code cell (F2):\n",
    "I have changed the initial velocity of the planet used in the animation from (-22,0,0) to (0,0,-22), keeping the rest of the parameters the same as the test animation."
   ]
  },
  {
   "cell_type": "code",
   "execution_count": 15,
   "metadata": {
    "scrolled": true
   },
   "outputs": [
    {
     "data": {
      "text/html": [
       "<div id=\"glowscript\" class=\"glowscript\"></div>"
      ],
      "text/plain": [
       "<IPython.core.display.HTML object>"
      ]
     },
     "metadata": {},
     "output_type": "display_data"
    },
    {
     "data": {
      "application/javascript": [
       "if (typeof Jupyter !== \"undefined\") { window.__context = { glowscript_container: $(\"#glowscript\").removeAttr(\"id\")};}else{ element.textContent = ' ';}"
      ],
      "text/plain": [
       "<IPython.core.display.Javascript object>"
      ]
     },
     "metadata": {},
     "output_type": "display_data"
    }
   ],
   "source": [
    "draw_scene()\n",
    "animate_planet(pos_planet, vector(0,0,-22), m_star, time_step)"
   ]
  },
  {
   "cell_type": "markdown",
   "metadata": {},
   "source": [
    "-----------------\n",
    "#### For the following code cell (F3):\n",
    "I have changed the initial velocity of the planet used in the animation from (-22,0,0) to (0,2,0), keeping the rest of the parameters the same as the test animation."
   ]
  },
  {
   "cell_type": "code",
   "execution_count": 16,
   "metadata": {},
   "outputs": [
    {
     "data": {
      "text/html": [
       "<div id=\"glowscript\" class=\"glowscript\"></div>"
      ],
      "text/plain": [
       "<IPython.core.display.HTML object>"
      ]
     },
     "metadata": {},
     "output_type": "display_data"
    },
    {
     "data": {
      "application/javascript": [
       "if (typeof Jupyter !== \"undefined\") { window.__context = { glowscript_container: $(\"#glowscript\").removeAttr(\"id\")};}else{ element.textContent = ' ';}"
      ],
      "text/plain": [
       "<IPython.core.display.Javascript object>"
      ]
     },
     "metadata": {},
     "output_type": "display_data"
    }
   ],
   "source": [
    "draw_scene()\n",
    "animate_planet(pos_planet, vector(0,2,0), m_star, time_step)"
   ]
  },
  {
   "cell_type": "markdown",
   "metadata": {},
   "source": [
    "## Investigation conclusion on changing initial velocity:\n",
    "\n",
    "When initial velocity is increased slightly (code cell C), it results in the planet completing a more elliptical orbit compared to the test animation. This could be explained by how with a larger initial velocity, the more kinetic energy the planet has to work against the gravitational force of the star. It thus is able to travel further away from the star, hence the more elliptical orbits. When it reachs a velocity of 0 the first time, it starts to accelerate according to the gravitational force of the star, returning closer to the star.\n",
    "\n",
    "<br>When initial velocity is increased a significantly (code cell D), it results in the planet moving in a straight line in the direction of the velocity. This could be explained by how with a large enough initial velocity, the planet has enough energy to work against the gravitational force of the star and escape it's influence to continue travelling in the direction of the velocity with left over energy.\n",
    "\n",
    "<br>When initial velocity direction is changed (code cell E), oribit is changes rotatation direction from anti-clockwise (negative) to clockwise (positive). This possibly shows that the gravitational force has little to no influence on which way a planet orbits the star, it appears to rely more on the initial velocity of the planet.\n",
    "\n",
    "<br>Having additional  z-component (code cell F) of the same magnitude causes a similar result to code cell D. Planet moves in a straight line in the direction of the velocity (Now a combination of x & z components.). \n",
    "\n",
    "<br>Changing having only z-component of the velocity (code cell F2) changes which plane of space the orbit is seen rotating in. his possibly shows that the gravitational force has little to no influence on which plane a planet orbits the star, it appears to rely more on the initial velocity of the planet.\n",
    "\n",
    "<br>Having only the y-component produces odd result of planet taking on a straight path, even with small magnitudes. This shows potentially issues with my code, that it may require further calculations for accurate representation of y-component. I believe this issue could be a result of the planet getting too close to the star and 'experiencing' very large amounts of gravitational acceleration, thus getting launched away. \n"
   ]
  },
  {
   "cell_type": "markdown",
   "metadata": {},
   "source": [
    "-----------------\n",
    "## Changing initial position investigation (G - I)\n",
    "\n",
    "\n",
    "-----------------\n",
    "#### For the following code cell (G):\n",
    "I have changed the initial position of the planet used in the animation from (0,2,0) to (0,0,2), keeping the rest of the parameters the same as the test animation."
   ]
  },
  {
   "cell_type": "code",
   "execution_count": 17,
   "metadata": {
    "scrolled": true
   },
   "outputs": [
    {
     "data": {
      "text/html": [
       "<div id=\"glowscript\" class=\"glowscript\"></div>"
      ],
      "text/plain": [
       "<IPython.core.display.HTML object>"
      ]
     },
     "metadata": {},
     "output_type": "display_data"
    },
    {
     "data": {
      "application/javascript": [
       "if (typeof Jupyter !== \"undefined\") { window.__context = { glowscript_container: $(\"#glowscript\").removeAttr(\"id\")};}else{ element.textContent = ' ';}"
      ],
      "text/plain": [
       "<IPython.core.display.Javascript object>"
      ]
     },
     "metadata": {},
     "output_type": "display_data"
    }
   ],
   "source": [
    "draw_scene()\n",
    "animate_planet(vector(0,0,2), v_planet, m_star, time_step)"
   ]
  },
  {
   "cell_type": "markdown",
   "metadata": {},
   "source": [
    "-----------------\n",
    "#### For the following code cell (H):\n",
    "I have changed the initial position of the planet used in the animation from (0,2,0) to (2,0,0), keeping the rest of the parameters the same as the test animation. Tested another animation for initial position of (100,0,0) for further investigation"
   ]
  },
  {
   "cell_type": "code",
   "execution_count": 18,
   "metadata": {},
   "outputs": [
    {
     "data": {
      "text/html": [
       "<div id=\"glowscript\" class=\"glowscript\"></div>"
      ],
      "text/plain": [
       "<IPython.core.display.HTML object>"
      ]
     },
     "metadata": {},
     "output_type": "display_data"
    },
    {
     "data": {
      "application/javascript": [
       "if (typeof Jupyter !== \"undefined\") { window.__context = { glowscript_container: $(\"#glowscript\").removeAttr(\"id\")};}else{ element.textContent = ' ';}"
      ],
      "text/plain": [
       "<IPython.core.display.Javascript object>"
      ]
     },
     "metadata": {},
     "output_type": "display_data"
    }
   ],
   "source": [
    "draw_scene()\n",
    "animate_planet(vector(2,0,0), v_planet, m_star, time_step)\n",
    "animate_planet(vector(100,0,0), v_planet, m_star, time_step)"
   ]
  },
  {
   "cell_type": "markdown",
   "metadata": {},
   "source": [
    "-----------------\n",
    "#### For the following code cell (I):\n",
    "I have changed the initial position of the planet used in the animation from (0,2,0) to (0,4,0), keeping the rest of the parameters the same as the test animation."
   ]
  },
  {
   "cell_type": "code",
   "execution_count": 19,
   "metadata": {},
   "outputs": [
    {
     "data": {
      "text/html": [
       "<div id=\"glowscript\" class=\"glowscript\"></div>"
      ],
      "text/plain": [
       "<IPython.core.display.HTML object>"
      ]
     },
     "metadata": {},
     "output_type": "display_data"
    },
    {
     "data": {
      "application/javascript": [
       "if (typeof Jupyter !== \"undefined\") { window.__context = { glowscript_container: $(\"#glowscript\").removeAttr(\"id\")};}else{ element.textContent = ' ';}"
      ],
      "text/plain": [
       "<IPython.core.display.Javascript object>"
      ]
     },
     "metadata": {},
     "output_type": "display_data"
    }
   ],
   "source": [
    "draw_scene()\n",
    "animate_planet(vector(0,4,0), v_planet, m_star, time_step)"
   ]
  },
  {
   "cell_type": "markdown",
   "metadata": {},
   "source": [
    "## Investigation conclusion on changing initial position:\n",
    "\n",
    "When only z-component has a magnitude, the orbital changes it's plane it orbits around. (code cell G) This shows that the gravitational force has little to no influence in the orbital plane and that it likely mostly depends on initial positio and velcoity direction.\n",
    "\n",
    "<br>When only x-component has a magnitude, the planet takes a straight path away from the star similar to planet paths seen in code cells F3, D. Testing for large values of x, 100, we see in time what is taking place. The planet moves with default velocity directly towards the planet. It passes through the 'star' accelerating exponentially when approaching. It then speeds through the star in the original direction it was going. This shows us the limitation of our modelling as it doesn't consider the case of collision. This helps explain the cases for F3 and D.\n",
    "\n",
    "<br>When the y-component increases, it causes the distance away from the star increase and more elliptical/ parabolic trajectory occurs. This can be explained by the reduced effects of the star's gravitational attraction due to the extra distance. It causes the planet to only have it's path altered but not enough for it to start orbiting. \n",
    "\n",
    "<br>With mixture of the different components, we see a mixture of the individual effects. Larger magnitude of the component, the more prevalent it is. Main difference is that the x-component can have a magnitude likel it no longer is on path to 'collide' with the star with other positional vectors."
   ]
  },
  {
   "cell_type": "markdown",
   "metadata": {},
   "source": [
    "-----------------\n",
    "## Changing timestep investiation (J - K)\n",
    "\n",
    "-----------------\n",
    "#### For the following code cell (J):\n",
    "I have changed the time step used in the animation from 1e-4 to 0.001, keeping the rest of the parameters the same as the test animation."
   ]
  },
  {
   "cell_type": "code",
   "execution_count": 20,
   "metadata": {
    "scrolled": true
   },
   "outputs": [
    {
     "data": {
      "text/html": [
       "<div id=\"glowscript\" class=\"glowscript\"></div>"
      ],
      "text/plain": [
       "<IPython.core.display.HTML object>"
      ]
     },
     "metadata": {},
     "output_type": "display_data"
    },
    {
     "data": {
      "application/javascript": [
       "if (typeof Jupyter !== \"undefined\") { window.__context = { glowscript_container: $(\"#glowscript\").removeAttr(\"id\")};}else{ element.textContent = ' ';}"
      ],
      "text/plain": [
       "<IPython.core.display.Javascript object>"
      ]
     },
     "metadata": {},
     "output_type": "display_data"
    }
   ],
   "source": [
    "draw_scene()\n",
    "animate_planet(pos_planet, v_planet, m_star, 0.001)"
   ]
  },
  {
   "cell_type": "markdown",
   "metadata": {},
   "source": [
    "-----------------\n",
    "#### For the following code cell (k):\n",
    "I have changed the time step used in the animation from 1e-4 to 0.1, keeping the rest of the parameters the same as the test animation."
   ]
  },
  {
   "cell_type": "code",
   "execution_count": 21,
   "metadata": {
    "scrolled": true
   },
   "outputs": [
    {
     "data": {
      "text/html": [
       "<div id=\"glowscript\" class=\"glowscript\"></div>"
      ],
      "text/plain": [
       "<IPython.core.display.HTML object>"
      ]
     },
     "metadata": {},
     "output_type": "display_data"
    },
    {
     "data": {
      "application/javascript": [
       "if (typeof Jupyter !== \"undefined\") { window.__context = { glowscript_container: $(\"#glowscript\").removeAttr(\"id\")};}else{ element.textContent = ' ';}"
      ],
      "text/plain": [
       "<IPython.core.display.Javascript object>"
      ]
     },
     "metadata": {},
     "output_type": "display_data"
    }
   ],
   "source": [
    "draw_scene()\n",
    "animate_planet(pos_planet, v_planet, m_star, 0.1)"
   ]
  },
  {
   "cell_type": "markdown",
   "metadata": {},
   "source": [
    "#### For the following code cell (L):\n",
    "I have changed the time step used in the animation from 1e-4 to 0.001, keeping the rest of the parameters the same as the test animation."
   ]
  },
  {
   "cell_type": "code",
   "execution_count": null,
   "metadata": {},
   "outputs": [
    {
     "data": {
      "text/html": [
       "<div id=\"glowscript\" class=\"glowscript\"></div>"
      ],
      "text/plain": [
       "<IPython.core.display.HTML object>"
      ]
     },
     "metadata": {},
     "output_type": "display_data"
    },
    {
     "data": {
      "application/javascript": [
       "if (typeof Jupyter !== \"undefined\") { window.__context = { glowscript_container: $(\"#glowscript\").removeAttr(\"id\")};}else{ element.textContent = ' ';}"
      ],
      "text/plain": [
       "<IPython.core.display.Javascript object>"
      ]
     },
     "metadata": {},
     "output_type": "display_data"
    }
   ],
   "source": [
    "draw_scene()\n",
    "animate_planet(pos_planet, v_planet, m_star, 0.000001)"
   ]
  },
  {
   "cell_type": "markdown",
   "metadata": {},
   "source": [
    "## Investigation conclusion on changing timestep:\n",
    "\n",
    "We have increased our timestep from 1e-4 to 0.001, as seen in code cell J.\n",
    "Noticably, the number of lines drawn is less. Using 0.001 actually makes it easier to see the orbit increase in size. Both are unable to update fast enough to smoothly model the speed at which this orbits goes. We see that with slower rate of updating, the animation becomes more choppy and less accurate.\n",
    "\n",
    "<br>We have increased our timestep from 1e-4 to 0.1, as seen in code cell K. The simuluation doesn't model a circular/elliptical orbit that is expected. It creates a straight line. The rate of updating has reached a point of total inaccurancy as the model doesn't create a meaningful result. \n",
    "\n",
    "<br>I decreased the timestep from 1e-4 to 0.000001, as seen in code cell L. The simulation models the circular orbit very smoothly. It however took a much longer time to compute as more calculations are needed. \n",
    "\n",
    "I have tried decreasing our timestep further, however due to the limitation of Eulers method addressed in module 9 coding task, jupyter is unable to compute it in a feasible time frame. This shows us how there is room for improvement."
   ]
  },
  {
   "cell_type": "markdown",
   "metadata": {},
   "source": [
    "-----------------------------------\n",
    "\n",
    "## Part B\n",
    "\n",
    "It is up to you to structure the rest of the notebook as you see fit, as you complete the tasks set in part B of the assignment.\n",
    "\n",
    "You can call the functions you have defined in part A, or copy and adapt them in part B, but **DO NOT CHANGE THE CODE IN PART A SUCH THAT THE CELLS IN PART A NO LONGER WORK CORRECTLY.** You do not want to lose marks in section A in completing section B."
   ]
  },
  {
   "cell_type": "markdown",
   "metadata": {},
   "source": [
    "# Two planets (20% of marks)\n",
    "## 1a)\n",
    "\"Copy the animate planet function from part A into a new code cell, and\n",
    "adapt it so that instead of a single planet it shows the paths of two separate\n",
    "planets in the gravitational field of the same star. \n",
    "<br>You should not take into\n",
    "account the gravitational attraction between the planets in this section, only\n",
    "the force between each planet and the star.\n",
    "<br>Instead of a single position and velocity, your function will need to take as\n",
    "arguments two positions and velocities (a position and velocity for each\n",
    "planet) and return two positions and velocities.\n",
    "<br>Your function can call move planet from part A, and hence make use of the\n",
    "existing force function. You do not need to repeat or change these functions.\"\n",
    "\n",
    "--------------------------\n",
    "#### For the following code cell:\n",
    "<br>Adapting previously coded 'animate planet' function to now consider and model the orbits of two planets around a star.\n",
    "<br>It now takes additional arguments 'position2' and 'velocity2' that allow the second planet to have different starting conditions.\n",
    "<br>The calculations of the change in position and velocity will still be based solely on the 'move_planet' function.\n",
    "<br>Thus we must note the lack of consideration to the gravitational force between the two planets.\n"
   ]
  },
  {
   "cell_type": "code",
   "execution_count": null,
   "metadata": {},
   "outputs": [],
   "source": [
    "###############################################################################\n",
    "# Adapted 'animate_planet' function, which was adapted from module 9 coding task\n",
    "# Added the consideration of a second planet\n",
    "###############################################################################\n",
    "def animate_2_planets(position, velocity,position2, velocity2, m_star, dt):\n",
    "    \"\"\"\n",
    "    Animate planetary orbit from given starting position, with given time step.\n",
    "    \n",
    "    Input:\n",
    "      - position: position vector of planet at start of time step\n",
    "      - velocity: velocity vector of planet at start of time step\n",
    "      - position2: position vector of 2nd planet at start of time step\n",
    "      - velocity2: velocity vector of 2nd planet at start of time step\n",
    "      - m_star:   mass of star\n",
    "      - dt:       time step\n",
    "      \n",
    "    Output: Animation of predicted orbit of two planets around a star\n",
    "    \n",
    "    Depends on:\n",
    "      - 'move_planet' function\n",
    "    \"\"\"\n",
    "    # Draw yellow and green planet at starting position, and make it leave a trail.\n",
    "    planet = sphere(pos=position,radius=0.2,make_trail=True,color=color.yellow)\n",
    "    planet2 = sphere(pos=position,radius=0.2,make_trail=True,color=color.green)\n",
    "    \n",
    "    # Setting the conditions for while loop\n",
    "    time = 0.                               # initial time [s]\n",
    "    max_time = 10.                          # maximum time to run animation\n",
    "    current_velocity = velocity\n",
    "    current_velocity2 = velocity2\n",
    "\n",
    "    # While loop that updates both planet's position and velocity depending on input\n",
    "    while time < max_time:\n",
    "        rate(1/dt)\n",
    "        position \n",
    "        position, velocity = move_planet(position, current_velocity, m_star, dt)\n",
    "        position2, velcoity2 = move_planet(position2, current_velocity2, m_star, dt)\n",
    "        planet.pos = position\n",
    "        planet2.pos = position2\n",
    "        current_velocity = velocity\n",
    "        current_velocity2 = velocity2\n",
    "        time += dt "
   ]
  },
  {
   "cell_type": "markdown",
   "metadata": {},
   "source": [
    "## 1b)\n",
    "Test your code using the following initial conditions:\n",
    "<br>• first planet: position (1.85, 0, 0), velocity (0, 23.25, 0)\n",
    "<br>• second planet: position (1.96, 0.4, 0), velocity (−4.44, 21.9, 0)\n",
    "<br>Describe and comment on the behaviour in a text cell.\n"
   ]
  },
  {
   "cell_type": "markdown",
   "metadata": {},
   "source": [
    "-------------------\n",
    "#### For the following code cell:\n",
    "Using 'animate_2_planets' and 'draw_scene' function to animate the initial conditions given for testing."
   ]
  },
  {
   "cell_type": "code",
   "execution_count": null,
   "metadata": {},
   "outputs": [],
   "source": [
    "draw_scene()\n",
    "animate_2_planets(vector(1.85,0,0), vector(0,23.25,0),vector(1.96,0.4,0),vector(-4.44,21.9,0),1000,0.0001)"
   ]
  },
  {
   "cell_type": "markdown",
   "metadata": {},
   "source": [
    "## Description and comments on test animation.\n",
    "\n",
    "We see that the yellow planet orbits the star that increases in diameter over time. It likely did not have high enough inital velocity to escape gravitational attraction of the star. \n",
    "We see that the green planet may have had high enough velocity to escape the gravitational attraction of the star, having it's path adjusted slightly towards the star but still continuing on a straight away from the star. \n"
   ]
  },
  {
   "cell_type": "markdown",
   "metadata": {},
   "source": [
    "# Two planets with gravitational interactions (30% of marks)\n",
    "## 2a) \n",
    "Create a new function, similar to move planet, but this time dealing with two\n",
    "planets and taking into account the gravitational attraction between the\n",
    "planets as well as between each planet and the star.\n",
    "<br>In addition to the positions and velocities of the two planets, this function will\n",
    "need to take two more arguments to represent the masses of the planets.\n",
    "<br>Your function can call the force function from part A: you do not need to\n",
    "repeat or change this function.\n"
   ]
  },
  {
   "cell_type": "markdown",
   "metadata": {},
   "source": [
    "-----------------------------\n",
    "#### For the following code cell:\n",
    "I have defined the function 'move_2_planet' adapted from the 'move_planet' function.\n",
    "<br>This function calculates the new position and velocity of two planets due to the effects of gravitational forces.\n",
    "<br>It takes into consideration the effect of the gravitational force the planets have on each other.\n",
    "<br>It takes into consideration the effect of the gravitational force that the star exerts on the planets.\n",
    "\n",
    "<br>Similar to the explanation seen for 'move_planet' function, this function adds a very small change in velcoity due to calculating the acceleration for a small time period, 'dt'. Main difference is that this function adds the small change in velocity of a planet due to the gravitational force of the other planet. \n"
   ]
  },
  {
   "cell_type": "code",
   "execution_count": null,
   "metadata": {},
   "outputs": [],
   "source": [
    "##################################################################################\n",
    "# Adapted from 'move_planet' function defined earlier\n",
    "# Now computes additional planet, taking into account their effects on each other\n",
    "##################################################################################\n",
    "def move_2_planet(position, velocity, m_planet, position2, velocity2, m_planet2, m_star, dt):\n",
    "    \"\"\"\n",
    "    Calculate motion of 2 planets in the gravitational field of a star with given mass\n",
    "    at the origin, using Euler's method.\n",
    "    \n",
    "    Input:\n",
    "      - position: position vector of planet at start of time step\n",
    "      - velocity: velocity vector of planet at start of time step\n",
    "      - position2: position vector of 2nd planet at start of time step\n",
    "      - velocity2: velocity vector of 2nd planet at start of time step\n",
    "      - m_planet: mass of the planet\n",
    "      - m_planet2: mass of the second planet\n",
    "      - m_star:   mass of star\n",
    "      - dt:       time step\n",
    "      \n",
    "    Output: (position_new, velocity_new)\n",
    "      - position_new: position vector of planet at end of time step\n",
    "      - velocity_new: velocity vector of planet at end of time step\n",
    "      - position2_new: position vector of 2nd planet at end of time step\n",
    "      - velocity2_new: velocity vector of 2nd planet at end of time step\n",
    "      \n",
    "    Depends on:\n",
    "      - 'force' function\n",
    "      - 'move_planet' funtion\n",
    "    \"\"\"\n",
    "    ##################\n",
    "    # YOUR CODE HERE #\n",
    "    ##################\n",
    "    \n",
    "    # Calculating distance between planets, 'planets_d'\n",
    "    dot_product = abs(position.dot(position2))\n",
    "    planets_d = np.sqrt(dot_product)\n",
    "    \n",
    "    # Calculating gravitational vector force experienced by the planets due to each other\n",
    "    g_force = force(position, position2, m_planet, m_planet2)\n",
    "    g_force2 = force(position2, position, m_planet2, m_planet)\n",
    "    \n",
    "    # Calculating gravitational acceleration experienced by the planets due to each other\n",
    "    a = g_force / m_planet\n",
    "    a2 = g_force2 / m_planet2\n",
    "    \n",
    "    # The additional velocity due to gravitational acceleration for each planet for time dt\n",
    "    delta_v = a * dt\n",
    "    delta_v2 = a2 * dt\n",
    "    \n",
    "    # The initial velocity + additional velocity due to gravitational force of the star for each planet \n",
    "    star_p, star_v = move_planet(position,velocity, m_star, dt)\n",
    "    star_p, star_v2 = move_planet(position2,velocity2, m_star, dt)\n",
    "    \n",
    "    # The total change in velocity calculations \n",
    "    velocity_new = star_v + delta_v\n",
    "    velocity2_new = star_v2 + delta_v2\n",
    "    \n",
    "    # The total change in position calculations\n",
    "    position_new = position + (velocity_new * dt) \n",
    "    position2_new = position2 + (velocity2_new * dt)\n",
    "    \n",
    "    return position_new, velocity_new, position2_new, velocity2_new"
   ]
  },
  {
   "cell_type": "markdown",
   "metadata": {},
   "source": [
    "## 2b)\n",
    "Create a new function, similar to animate planet, but this time dealing with\n",
    "two planets and using your new move planet function to take into account\n",
    "the gravitational attraction between the planets as well as between each\n",
    "planet and the star.\n"
   ]
  },
  {
   "cell_type": "markdown",
   "metadata": {},
   "source": [
    "---------------------\n",
    "#### For the following code cell:\n",
    "I have defined the function 'new_animate_2_planets' which animates the motion of a planets due to the gravitational of a star and each other. Adapted from animate_planet & animate_2_planets, the key difference being that it now depends on the 'move_2_planets' function. \n",
    "\n",
    "<br>The function loops through 'move_2_planets' starting from the values inputted into it at a rate of 'dt'. It continues to update and draw both the planet locations, resulting in an animation.\n",
    "(Also uses Euler's method, hence why I adapted animate_planet & animate_2_planets functions which were adapted from module 9 coding task )"
   ]
  },
  {
   "cell_type": "markdown",
   "metadata": {},
   "source": [
    "## 2c)\n",
    "Test your code using the same initial conditions as for the previous case, and\n",
    "with each planet having a mass of 2.0 in the units we are using for this\n",
    "assignment.\n",
    "Describe and comment on the behaviour in a text cell"
   ]
  },
  {
   "cell_type": "code",
   "execution_count": null,
   "metadata": {},
   "outputs": [],
   "source": [
    "####################################################################################################\n",
    "# Adapted 'animate_2_planet' function, which was adapted from 'animate_planet'/module 9 coding task\n",
    "# Now depends on 'move_2_planet' function instead of 'move_planet' function\n",
    "####################################################################################################\n",
    "def new_animate_2_planets(position, velocity, m_planet, position2, velocity2, m_planet2, m_star, dt):\n",
    "    \"\"\"\n",
    "    Animate planetary orbit from given starting position, with given time step.\n",
    "    \n",
    "    Input:\n",
    "      - position: position vector of planet at start of time step\n",
    "      - velocity: velocity vector of planet at start of time step\n",
    "      - m_planet: mass of planet\n",
    "      - position2: position vector of 2nd planet at start of time step\n",
    "      - velocity2: velocity vector of 2nd planet at start of time step\n",
    "      - m_planet2: mass of 2nd planet\n",
    "      - m_star:   mass of star\n",
    "      - dt:       time step\n",
    "      \n",
    "    Output: Animation of predicted orbit of two planets around a star\n",
    "    \n",
    "    Depends on:\n",
    "      - 'move_2_planet' function\n",
    "    \"\"\"\n",
    "    ##################\n",
    "    # YOUR CODE HERE #\n",
    "    #####################\n",
    "    # Taken from module 9\n",
    "    #####################\n",
    "    \n",
    "    # Draw yellow & green planets at starting position, and make it leave a trail.\n",
    "    planet = sphere(pos=position,radius=0.2,make_trail=True,color=color.yellow)\n",
    "    planet2 = sphere(pos=position,radius=0.2,make_trail=True,color=color.green)\n",
    "    \n",
    "    # Setting conditions needed for while loop\n",
    "    time = 0.                               # initial time [s]\n",
    "    max_time = 10.                          # maximum time to run animation\n",
    "    current_velocity = velocity\n",
    "    current_velocity2 = velocity2\n",
    "    \n",
    "    # While loop that updates\n",
    "    while time < max_time:\n",
    "        rate(1/dt)\n",
    "        position, velocity, position2, velocity2 = move_2_planet(position, current_velocity, m_planet, position2, current_velocity2, m_planet2, m_star, dt)\n",
    "        planet.pos = position\n",
    "        planet2.pos = position2\n",
    "        current_velocity = velocity\n",
    "        current_velocity2 = velocity2\n",
    "        time += dt \n",
    "    "
   ]
  },
  {
   "cell_type": "code",
   "execution_count": null,
   "metadata": {
    "scrolled": true
   },
   "outputs": [],
   "source": [
    "draw_scene()\n",
    "new_animate_2_planets(vector(1.85,0,0), vector(0,23.25,0), 2, vector(1.96,0.4,0),vector(-4.44,21.9,0), 2, 1000, 0.001)"
   ]
  },
  {
   "cell_type": "markdown",
   "metadata": {},
   "source": [
    "## Description and comments on test animation\n",
    "\n",
    "We see that both planets orbit the star at different speeds. This results in many points where they influence each others orbits and cause it to move more elliptically. This is seen more in the yellow planet. Finally the planets fall into an equilibirum where they consistently orbit along the same path. Potentially, this is the orbit's initial kinetic energy causing the initial instability, once both planets have their kinetic energies expended, they fall into the equilibrium."
   ]
  },
  {
   "cell_type": "markdown",
   "metadata": {},
   "source": [
    "# Further investigation\n",
    "## 3.)\n",
    "Try varying some of the parameters of your simulation: the masses of the star and\n",
    "the planets, and the starting positions and velocities of the planets. \n",
    "<br>There are\n",
    "many aspects you could investigate, but you should pick one or two. \n",
    "<br>Create a few\n",
    "animations to illustrate some of the effects you observe, and write a conclusion\n",
    "describing the behaviour and attempting to explain it.\n",
    "<br>For example, you could\n",
    "<br>• calculate the required velocity to achieve a stable circular orbit with a given\n",
    "radius, and see how close or how massive the planets have to be to have a\n",
    "significant effect on each other’s orbit;\n",
    "<br>• turn one of the planets into a moon orbiting the other, by careful choice of\n",
    "masses and initial conditions. (This is hard.)\n"
   ]
  },
  {
   "cell_type": "markdown",
   "metadata": {},
   "source": [
    "--------------------\n",
    "#### For the following code cell:\n",
    "I have experimented with changing the variables that input into the 'new_animate_2_planets' function so that it now animates a moon orbiting a planet, both orbiting the star."
   ]
  },
  {
   "cell_type": "code",
   "execution_count": null,
   "metadata": {
    "scrolled": false
   },
   "outputs": [],
   "source": [
    "# Parameters to be inputted into animation function \n",
    "earth_pos = vector(0,3.5,0)  \n",
    "earth_v = vector(-22,0,0)\n",
    "earth_m = 2\n",
    "moon_pos = vector(0,3,0) \n",
    "moon_v = vector(-25,0,0)\n",
    "moon_m = 0.5\n",
    "m_star = 1000\n",
    "timestep =  0.00001\n",
    "\n",
    "# Drawing and executing animation function \n",
    "draw_scene()\n",
    "new_animate_2_planets(moon_pos, moon_v , moon_m, earth_pos,earth_v , earth_m , m_star, timestep)"
   ]
  },
  {
   "cell_type": "markdown",
   "metadata": {
    "scrolled": false
   },
   "source": [
    "## Final Investigation process\n",
    "\n",
    "Initially, I based the model on the actual masses and distances between the Sun, Earth and the Moon. However due to limitations of scaling it to be visible, I quickly moved on to basing the model on the circular orbit seen in the test animation. (0,2,0) & (0,2.5,0) Being the positional vector of the planets, (-22,0,0) being initial velocity of both planet, 2 being the mass of both plants and mass of tje star being 1000.    \n",
    "\n",
    "First I adjusted the positions of the two planets so that they would be start further away from the star. This was so that they would experience weaker amounts gravitational attraction and be able to have more influence on each other. (keeping the distance between the planets small too so that it's easier for a moon orbit)\n",
    "\n",
    "Next I increased the velocity of the moon planet so that it would follow a similar trajectory to the planet despite it being closer and experiencing stronger gravitational acceleration.\n",
    "\n",
    "Finally I reduced the mass of the moon planet relative to the planet so that it could experience significant gravitational accleration from the planet for it to orbit. I used the ratio of the Earth and Moon for reference [Williams]\n",
    "\n",
    "What we observe is the planet and moon following similar trajectories until the moon starts to orbit the planet (green). The yellow spiral trail following the circular green trail shows the moon to planet behaviour that we wanted. \n",
    "\n",
    "\n",
    "\n",
    "\n"
   ]
  },
  {
   "cell_type": "markdown",
   "metadata": {},
   "source": [
    "## References \n",
    "\n",
    "Waugh, Dr Ben, et al. “Simulating Planetary Orbits.” Moodle.Ucl.Ac.Uk, UCL, 16 Dec. 2020, moodle.ucl.ac.uk/pluginfile.php/3716400/mod_resource/content/1/PHAS0007_Final_Assignment_2020-1.pdf.\n",
    "\n",
    "Williams, Dr. David R. “Planetary Fact Sheet - Ratio to Earth.” Nasa.Gov, NASA, 2019, nssdc.gsfc.nasa.gov/planetary/factsheet/planet_table_ratio.html."
   ]
  },
  {
   "cell_type": "code",
   "execution_count": null,
   "metadata": {},
   "outputs": [],
   "source": []
  }
 ],
 "metadata": {
  "kernelspec": {
   "display_name": "Python 3",
   "language": "python",
   "name": "python3"
  },
  "language_info": {
   "codemirror_mode": {
    "name": "ipython",
    "version": 3
   },
   "file_extension": ".py",
   "mimetype": "text/x-python",
   "name": "python",
   "nbconvert_exporter": "python",
   "pygments_lexer": "ipython3",
   "version": "3.8.3"
  }
 },
 "nbformat": 4,
 "nbformat_minor": 4
}
